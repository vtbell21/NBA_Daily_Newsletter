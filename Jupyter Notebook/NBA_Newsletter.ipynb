{
 "cells": [
  {
   "cell_type": "code",
   "execution_count": 17,
   "id": "4ab00a4f",
   "metadata": {},
   "outputs": [],
   "source": [
    "import requests\n",
    "from bs4 import BeautifulSoup\n",
    "\n",
    "# use the requests to send an HTTP requests to the NBA page\n",
    "# and store the response variable\n",
    "url = \"https://www.nba.com/stats\"\n",
    "response = requests.get(url)\n",
    "\n",
    "# create a beautiful soup object from the HTML content of the response\n",
    "soup = BeautifulSoup(response.content, \"html.parser\")\n"
   ]
  },
  {
   "cell_type": "code",
   "execution_count": 67,
   "id": "b5a8b80a",
   "metadata": {},
   "outputs": [
    {
     "name": "stdout",
     "output_type": "stream",
     "text": [
      "[('Donovan MitchellCLE', '41'), ('Jalen BrunsonNYK', '40'), ('Damian LillardPOR', '40'), ('Kyrie IrvingDAL', '36'), ('Brandon IngramNOP', '34'), ('Anthony DavisLAL', '20'), ('Rudy GobertMIN', '14'), ('Kevon LooneyGSW', '13'), ('Nikola VucevicCHI', '13'), ('Luka DoncicDAL', '12'), ('LaMelo BallCHA', '15'), ('Trae YoungATL', '14'), ('Tyrese HaliburtonIND', '12'), ('James HardenPHI', '10'), ('Jimmy ButlerMIA', '9'), ('Isaiah JacksonIND', '4'), ('Jarrett AllenCLE', '3'), ('Paolo BancheroORL', '3'), ('Anthony DavisLAL', '3'), ('Trey Murphy IIINOP', '3'), ('Josh RichardsonNOP', '5'), ('Jamaree BouyeaMIA', '3'), ('Zach CollinsSAS', '3'), ('Tyrese HaliburtonIND', '3'), ('Gary HarrisORL', '3'), ('Jordan ClarksonUTA', '7'), ('Darius GarlandCLE', '6'), ('Shai Gilgeous-AlexanderOKC', '6'), ('Brandon IngramNOP', '6'), ('Zach LaVineCHI', '5'), ('Damian LillardPOR', '8'), ('LaMelo BallCHA', '6'), ('Malik BeasleyLAL', '6'), ('Jalen BrunsonNYK', '6'), ('Jordan ClarksonUTA', '6'), ('Jalen GreenHOU', '15'), ('Luka DoncicDAL', '11'), ('Spencer DinwiddieBKN', '9'), ('Trae YoungATL', '9'), ('Shai Gilgeous-AlexanderOKC', '8'), ('Tyrese HaliburtonIND', '60.2'), ('Kyrie IrvingDAL', '58.0'), ('Donovan MitchellCLE', '57.3'), ('LaMelo BallCHA', '55.7'), ('Luka DoncicDAL', '55.4'), ('1647', 'NA'), ('1629', 'NA'), ('1606', 'NA'), ('661', 'NA'), ('653', 'NA'), ('635', 'NA'), ('522', 'NA'), ('505', 'NA'), ('475', 'NA'), ('137', 'NA'), ('135', 'NA'), ('127', 'NA'), ('97', 'NA'), ('93', 'NA'), ('93', 'NA'), ('224', 'NA'), ('195', 'NA'), ('190', 'NA'), ('12', 'NA'), ('11', 'NA'), ('11', 'NA'), ('71', 'NA'), ('60', 'NA'), ('60', 'NA'), ('9.1', 'NA'), ('6.9', 'NA'), ('6.9', 'NA')]\n"
     ]
    }
   ],
   "source": [
    "# use find_all to extract all classes that contain player stats\n",
    "data = []\n",
    "tables = soup.find_all('table', class_=\"LeaderBoardPlayerCard_lbpcTable__q3iZD\")\n",
    "# loop through all tables to extract player data \n",
    "for table in tables:\n",
    "    headers = [header.text for header in table.find_all('th')]\n",
    "    for row in table.find_all('tr')[0:]:\n",
    "        cells = row.find_all('td')\n",
    "        player_name = cells[1].text.strip()\n",
    "        try:\n",
    "            points_per_game = cells[2].text.strip()\n",
    "        except IndexError:\n",
    "            points_per_game = \"NA\"\n",
    "        data.append((player_name, points_per_game))\n",
    "\n",
    "print(data)"
   ]
  },
  {
   "cell_type": "code",
   "execution_count": 64,
   "id": "a069f133",
   "metadata": {},
   "outputs": [
    {
     "name": "stdout",
     "output_type": "stream",
     "text": [
      "<class 'str'>\n",
      "<class 'str'>\n",
      "<class 'str'>\n",
      "<class 'str'>\n",
      "<class 'str'>\n",
      "<class 'str'>\n",
      "<class 'str'>\n",
      "<class 'str'>\n",
      "<class 'str'>\n",
      "<class 'str'>\n",
      "<class 'str'>\n",
      "<class 'str'>\n",
      "<class 'str'>\n",
      "<class 'str'>\n",
      "<class 'str'>\n",
      "<class 'str'>\n",
      "<class 'str'>\n",
      "<class 'str'>\n",
      "<class 'str'>\n",
      "<class 'str'>\n",
      "<class 'str'>\n",
      "<class 'str'>\n",
      "<class 'str'>\n",
      "<class 'str'>\n",
      "<class 'str'>\n",
      "<class 'str'>\n",
      "<class 'str'>\n",
      "<class 'str'>\n",
      "<class 'str'>\n",
      "<class 'str'>\n",
      "<class 'str'>\n",
      "<class 'str'>\n",
      "<class 'str'>\n",
      "<class 'str'>\n",
      "<class 'str'>\n",
      "<class 'str'>\n",
      "<class 'str'>\n",
      "<class 'str'>\n",
      "<class 'str'>\n",
      "<class 'str'>\n",
      "<class 'str'>\n",
      "<class 'str'>\n",
      "<class 'str'>\n",
      "<class 'str'>\n",
      "<class 'str'>\n",
      "<class 'str'>\n",
      "<class 'str'>\n",
      "<class 'str'>\n",
      "<class 'str'>\n",
      "<class 'str'>\n",
      "<class 'str'>\n",
      "<class 'str'>\n",
      "<class 'str'>\n",
      "<class 'str'>\n",
      "<class 'str'>\n",
      "<class 'str'>\n",
      "<class 'str'>\n",
      "<class 'str'>\n",
      "<class 'str'>\n",
      "<class 'str'>\n",
      "<class 'str'>\n",
      "<class 'str'>\n",
      "<class 'str'>\n",
      "<class 'str'>\n",
      "<class 'str'>\n",
      "<class 'str'>\n",
      "<class 'str'>\n",
      "<class 'str'>\n",
      "<class 'str'>\n",
      "<class 'str'>\n",
      "<class 'str'>\n",
      "<class 'str'>\n",
      "<class 'str'>\n",
      "<class 'str'>\n",
      "<class 'str'>\n",
      "<class 'str'>\n",
      "<class 'str'>\n",
      "<class 'str'>\n",
      "<class 'str'>\n",
      "<class 'str'>\n",
      "<class 'str'>\n",
      "<class 'str'>\n",
      "<class 'str'>\n",
      "<class 'str'>\n",
      "<class 'str'>\n",
      "<class 'str'>\n",
      "<class 'str'>\n",
      "<class 'str'>\n",
      "<class 'str'>\n",
      "<class 'str'>\n",
      "<class 'str'>\n",
      "<class 'str'>\n",
      "<class 'str'>\n",
      "<class 'str'>\n",
      "<class 'str'>\n",
      "<class 'str'>\n",
      "<class 'str'>\n",
      "<class 'str'>\n",
      "<class 'str'>\n",
      "<class 'str'>\n",
      "<class 'str'>\n",
      "<class 'str'>\n",
      "<class 'str'>\n",
      "<class 'str'>\n",
      "<class 'str'>\n",
      "<class 'str'>\n",
      "<class 'str'>\n",
      "<class 'str'>\n",
      "<class 'str'>\n",
      "<class 'str'>\n",
      "<class 'str'>\n",
      "<class 'str'>\n",
      "<class 'str'>\n",
      "<class 'str'>\n",
      "<class 'str'>\n",
      "<class 'str'>\n",
      "<class 'str'>\n",
      "<class 'str'>\n",
      "<class 'str'>\n",
      "<class 'str'>\n",
      "<class 'str'>\n",
      "<class 'str'>\n",
      "<class 'str'>\n",
      "<class 'str'>\n",
      "<class 'str'>\n",
      "<class 'str'>\n",
      "<class 'str'>\n",
      "<class 'str'>\n",
      "<class 'str'>\n",
      "<class 'str'>\n",
      "<class 'str'>\n",
      "<class 'str'>\n",
      "<class 'str'>\n",
      "<class 'str'>\n",
      "<class 'str'>\n",
      "<class 'str'>\n",
      "<class 'str'>\n",
      "<class 'str'>\n",
      "<class 'str'>\n",
      "<class 'str'>\n",
      "<class 'str'>\n",
      "<class 'str'>\n",
      "<class 'str'>\n",
      "<class 'str'>\n"
     ]
    }
   ],
   "source": [
    "# print the type of each element stored in tuple\n",
    "for tup in data:\n",
    "    for item in tup:\n",
    "        print(type(item))"
   ]
  },
  {
   "cell_type": "code",
   "execution_count": 68,
   "id": "0a5e418a",
   "metadata": {
    "scrolled": true
   },
   "outputs": [
    {
     "name": "stdout",
     "output_type": "stream",
     "text": [
      "[('Donovan MitchellCLE', '41'), ('Jalen BrunsonNYK', '40'), ('Damian LillardPOR', '40'), ('Kyrie IrvingDAL', '36'), ('Brandon IngramNOP', '34'), ('Anthony DavisLAL', '20'), ('Rudy GobertMIN', '14'), ('Kevon LooneyGSW', '13'), ('Nikola VucevicCHI', '13'), ('Luka DoncicDAL', '12'), ('LaMelo BallCHA', '15'), ('Trae YoungATL', '14'), ('Tyrese HaliburtonIND', '12'), ('James HardenPHI', '10'), ('Jimmy ButlerMIA', '9'), ('Isaiah JacksonIND', '4'), ('Jarrett AllenCLE', '3'), ('Paolo BancheroORL', '3'), ('Anthony DavisLAL', '3'), ('Trey Murphy IIINOP', '3'), ('Josh RichardsonNOP', '5'), ('Jamaree BouyeaMIA', '3'), ('Zach CollinsSAS', '3'), ('Tyrese HaliburtonIND', '3'), ('Gary HarrisORL', '3'), ('Jordan ClarksonUTA', '7'), ('Darius GarlandCLE', '6'), ('Shai Gilgeous-AlexanderOKC', '6'), ('Brandon IngramNOP', '6'), ('Zach LaVineCHI', '5'), ('Damian LillardPOR', '8'), ('LaMelo BallCHA', '6'), ('Malik BeasleyLAL', '6'), ('Jalen BrunsonNYK', '6'), ('Jordan ClarksonUTA', '6'), ('Jalen GreenHOU', '15'), ('Luka DoncicDAL', '11'), ('Spencer DinwiddieBKN', '9'), ('Trae YoungATL', '9'), ('Shai Gilgeous-AlexanderOKC', '8'), ('Tyrese HaliburtonIND', '60.2'), ('Kyrie IrvingDAL', '58.0'), ('Donovan MitchellCLE', '57.3'), ('LaMelo BallCHA', '55.7'), ('Luka DoncicDAL', '55.4'), (1647, 'NA'), (1629, 'NA'), (1606, 'NA'), (661, 'NA'), (653, 'NA'), (635, 'NA'), (522, 'NA'), (505, 'NA'), (475, 'NA'), (137, 'NA'), (135, 'NA'), (127, 'NA'), (97, 'NA'), (93, 'NA'), (93, 'NA'), (224, 'NA'), (195, 'NA'), (190, 'NA'), (12, 'NA'), (11, 'NA'), (11, 'NA'), (71, 'NA'), (60, 'NA'), (60, 'NA'), ('9.1', 'NA'), ('6.9', 'NA'), ('6.9', 'NA')]\n"
     ]
    }
   ],
   "source": [
    "# convert digits to ints\n",
    "data = [(int(x[0]), x[1]) if x[0].isdigit() else x for x in data]\n",
    "print(data)"
   ]
  },
  {
   "cell_type": "code",
   "execution_count": 69,
   "id": "be99fbaa",
   "metadata": {},
   "outputs": [
    {
     "name": "stdout",
     "output_type": "stream",
     "text": [
      "[('Donovan MitchellCLE', 41), ('Jalen BrunsonNYK', 40), ('Damian LillardPOR', 40), ('Kyrie IrvingDAL', 36), ('Brandon IngramNOP', 34), ('Anthony DavisLAL', 20), ('Rudy GobertMIN', 14), ('Kevon LooneyGSW', 13), ('Nikola VucevicCHI', 13), ('Luka DoncicDAL', 12), ('LaMelo BallCHA', 15), ('Trae YoungATL', 14), ('Tyrese HaliburtonIND', 12), ('James HardenPHI', 10), ('Jimmy ButlerMIA', 9), ('Isaiah JacksonIND', 4), ('Jarrett AllenCLE', 3), ('Paolo BancheroORL', 3), ('Anthony DavisLAL', 3), ('Trey Murphy IIINOP', 3), ('Josh RichardsonNOP', 5), ('Jamaree BouyeaMIA', 3), ('Zach CollinsSAS', 3), ('Tyrese HaliburtonIND', 3), ('Gary HarrisORL', 3), ('Jordan ClarksonUTA', 7), ('Darius GarlandCLE', 6), ('Shai Gilgeous-AlexanderOKC', 6), ('Brandon IngramNOP', 6), ('Zach LaVineCHI', 5), ('Damian LillardPOR', 8), ('LaMelo BallCHA', 6), ('Malik BeasleyLAL', 6), ('Jalen BrunsonNYK', 6), ('Jordan ClarksonUTA', 6), ('Jalen GreenHOU', 15), ('Luka DoncicDAL', 11), ('Spencer DinwiddieBKN', 9), ('Trae YoungATL', 9), ('Shai Gilgeous-AlexanderOKC', 8), ('Tyrese HaliburtonIND', '60.2'), ('Kyrie IrvingDAL', '58.0'), ('Donovan MitchellCLE', '57.3'), ('LaMelo BallCHA', '55.7'), ('Luka DoncicDAL', '55.4'), (1647, 'NA'), (1629, 'NA'), (1606, 'NA'), (661, 'NA'), (653, 'NA'), (635, 'NA'), (522, 'NA'), (505, 'NA'), (475, 'NA'), (137, 'NA'), (135, 'NA'), (127, 'NA'), (97, 'NA'), (93, 'NA'), (93, 'NA'), (224, 'NA'), (195, 'NA'), (190, 'NA'), (12, 'NA'), (11, 'NA'), (11, 'NA'), (71, 'NA'), (60, 'NA'), (60, 'NA'), ('9.1', 'NA'), ('6.9', 'NA'), ('6.9', 'NA')]\n"
     ]
    }
   ],
   "source": [
    "# convert digits to ints\n",
    "data = [(x[0], int(x[1])) if x[1].isdigit() else x for x in data]\n",
    "print(data)"
   ]
  },
  {
   "cell_type": "code",
   "execution_count": 71,
   "id": "3a84aedb",
   "metadata": {},
   "outputs": [
    {
     "name": "stdout",
     "output_type": "stream",
     "text": [
      "[('Donovan MitchellCLE', 41), ('Jalen BrunsonNYK', 40), ('Damian LillardPOR', 40), ('Kyrie IrvingDAL', 36), ('Brandon IngramNOP', 34), ('Anthony DavisLAL', 20), ('Rudy GobertMIN', 14), ('Kevon LooneyGSW', 13), ('Nikola VucevicCHI', 13), ('Luka DoncicDAL', 12), ('LaMelo BallCHA', 15), ('Trae YoungATL', 14), ('Tyrese HaliburtonIND', 12), ('James HardenPHI', 10), ('Jimmy ButlerMIA', 9), ('Isaiah JacksonIND', 4), ('Jarrett AllenCLE', 3), ('Paolo BancheroORL', 3), ('Anthony DavisLAL', 3), ('Trey Murphy IIINOP', 3), ('Josh RichardsonNOP', 5), ('Jamaree BouyeaMIA', 3), ('Zach CollinsSAS', 3), ('Tyrese HaliburtonIND', 3), ('Gary HarrisORL', 3), ('Jordan ClarksonUTA', 7), ('Darius GarlandCLE', 6), ('Shai Gilgeous-AlexanderOKC', 6), ('Brandon IngramNOP', 6), ('Zach LaVineCHI', 5), ('Damian LillardPOR', 8), ('LaMelo BallCHA', 6), ('Malik BeasleyLAL', 6), ('Jalen BrunsonNYK', 6), ('Jordan ClarksonUTA', 6), ('Jalen GreenHOU', 15), ('Luka DoncicDAL', 11), ('Spencer DinwiddieBKN', 9), ('Trae YoungATL', 9), ('Shai Gilgeous-AlexanderOKC', 8), ('Tyrese HaliburtonIND', '60.2'), ('Kyrie IrvingDAL', '58.0'), ('Donovan MitchellCLE', '57.3'), ('LaMelo BallCHA', '55.7'), ('Luka DoncicDAL', '55.4'), ('9.1', 'NA'), ('6.9', 'NA'), ('6.9', 'NA')]\n"
     ]
    }
   ],
   "source": [
    "# filter the data so it only includes tuples with the first type of string\n",
    "data = [tup for tup in data if isinstance(tup[0], str)]\n",
    "print(data)"
   ]
  },
  {
   "cell_type": "code",
   "execution_count": 74,
   "id": "35442e38",
   "metadata": {},
   "outputs": [
    {
     "name": "stdout",
     "output_type": "stream",
     "text": [
      "[('Donovan MitchellCLE', 41), ('Jalen BrunsonNYK', 40), ('Damian LillardPOR', 40), ('Kyrie IrvingDAL', 36), ('Brandon IngramNOP', 34), ('Anthony DavisLAL', 20), ('Rudy GobertMIN', 14), ('Kevon LooneyGSW', 13), ('Nikola VucevicCHI', 13), ('Luka DoncicDAL', 12), ('LaMelo BallCHA', 15), ('Trae YoungATL', 14), ('Tyrese HaliburtonIND', 12), ('James HardenPHI', 10), ('Jimmy ButlerMIA', 9), ('Isaiah JacksonIND', 4), ('Jarrett AllenCLE', 3), ('Paolo BancheroORL', 3), ('Anthony DavisLAL', 3), ('Trey Murphy IIINOP', 3), ('Josh RichardsonNOP', 5), ('Jamaree BouyeaMIA', 3), ('Zach CollinsSAS', 3), ('Tyrese HaliburtonIND', 3), ('Gary HarrisORL', 3), ('Jordan ClarksonUTA', 7), ('Darius GarlandCLE', 6), ('Shai Gilgeous-AlexanderOKC', 6), ('Brandon IngramNOP', 6), ('Zach LaVineCHI', 5), ('Damian LillardPOR', 8), ('LaMelo BallCHA', 6), ('Malik BeasleyLAL', 6), ('Jalen BrunsonNYK', 6), ('Jordan ClarksonUTA', 6), ('Jalen GreenHOU', 15), ('Luka DoncicDAL', 11), ('Spencer DinwiddieBKN', 9), ('Trae YoungATL', 9), ('Shai Gilgeous-AlexanderOKC', 8)]\n"
     ]
    }
   ],
   "source": [
    "# slice the last two elements in the list since it contained garbage data\n",
    "data = data[:-2]\n",
    "print(data)"
   ]
  },
  {
   "cell_type": "code",
   "execution_count": 85,
   "id": "285f17b9",
   "metadata": {},
   "outputs": [
    {
     "name": "stdout",
     "output_type": "stream",
     "text": [
      "[('Donovan Mitchell CLE', 41), ('Jalen Brunson NYK', 40), ('Damian Lillard POR', 40), ('Kyrie Irving DAL', 36), ('Brandon Ingram NOP', 34), ('Anthony Davis LAL', 20), ('Rudy Gobert MIN', 14), ('Kevon Looney GSW', 13), ('Nikola Vucevic CHI', 13), ('Luka Doncic DAL', 12), ('LaMelo Ball CHA', 15), ('Trae Young ATL', 14), ('Tyrese Haliburton IND', 12), ('James Harden PHI', 10), ('Jimmy Butler MIA', 9), ('Isaiah Jackson IND', 4), ('Jarrett Allen CLE', 3), ('Paolo Banchero ORL', 3), ('Anthony Davis LAL', 3), ('Trey Murphy III NOP', 3), ('Josh Richardson NOP', 5), ('Jamaree Bouyea MIA', 3), ('Zach Collins SAS', 3), ('Tyrese Haliburton IND', 3), ('Gary Harris ORL', 3), ('Jordan Clarkson UTA', 7), ('Darius Garland CLE', 6), ('Shai Gilgeous-Alexander OKC', 6), ('Brandon Ingram NOP', 6), ('Zach LaVine CHI', 5), ('Damian Lillard POR', 8), ('LaMelo Ball CHA', 6), ('Malik Beasley LAL', 6), ('Jalen Brunson NYK', 6), ('Jordan Clarkson UTA', 6), ('Jalen Green HOU', 15), ('Luka Doncic DAL', 11), ('Spencer Dinwiddie BKN', 9), ('Trae Young ATL', 9), ('Shai Gilgeous-Alexander OKC', 8)]\n"
     ]
    }
   ],
   "source": [
    "for i, (s, n) in enumerate(data):\n",
    "    # Slice the string to separate the last three characters\n",
    "    first_part, last_part = s[:-3], s[-3:]\n",
    "    # Concatenate the first part with the last part separated by a whitespace\n",
    "    new_s = f\"{first_part} {last_part}\"\n",
    "    # Replace the original tuple with the new tuple\n",
    "    data[i] = (new_s, n)\n",
    "\n",
    "print(data)"
   ]
  },
  {
   "cell_type": "code",
   "execution_count": 86,
   "id": "ec1bcd62",
   "metadata": {},
   "outputs": [
    {
     "data": {
      "text/plain": [
       "40"
      ]
     },
     "execution_count": 86,
     "metadata": {},
     "output_type": "execute_result"
    }
   ],
   "source": [
    "len(data)"
   ]
  },
  {
   "cell_type": "code",
   "execution_count": 87,
   "id": "b841afac",
   "metadata": {},
   "outputs": [
    {
     "name": "stdout",
     "output_type": "stream",
     "text": [
      "[[('Donovan Mitchell CLE', 41), ('Jalen Brunson NYK', 40), ('Damian Lillard POR', 40), ('Kyrie Irving DAL', 36), ('Brandon Ingram NOP', 34)], [('Anthony Davis LAL', 20), ('Rudy Gobert MIN', 14), ('Kevon Looney GSW', 13), ('Nikola Vucevic CHI', 13), ('Luka Doncic DAL', 12)], [('LaMelo Ball CHA', 15), ('Trae Young ATL', 14), ('Tyrese Haliburton IND', 12), ('James Harden PHI', 10), ('Jimmy Butler MIA', 9)], [('Isaiah Jackson IND', 4), ('Jarrett Allen CLE', 3), ('Paolo Banchero ORL', 3), ('Anthony Davis LAL', 3), ('Trey Murphy III NOP', 3)], [('Josh Richardson NOP', 5), ('Jamaree Bouyea MIA', 3), ('Zach Collins SAS', 3), ('Tyrese Haliburton IND', 3), ('Gary Harris ORL', 3)], [('Jordan Clarkson UTA', 7), ('Darius Garland CLE', 6), ('Shai Gilgeous-Alexander OKC', 6), ('Brandon Ingram NOP', 6), ('Zach LaVine CHI', 5)], [('Damian Lillard POR', 8), ('LaMelo Ball CHA', 6), ('Malik Beasley LAL', 6), ('Jalen Brunson NYK', 6), ('Jordan Clarkson UTA', 6)], [('Jalen Green HOU', 15), ('Luka Doncic DAL', 11), ('Spencer Dinwiddie BKN', 9), ('Trae Young ATL', 9), ('Shai Gilgeous-Alexander OKC', 8)]]\n"
     ]
    }
   ],
   "source": [
    "# separate into sub arrays for each category (points, rebounds, etc.)\n",
    "sub_arrays = [data[i:i+5] for i in range(0, len(data), 5)]\n",
    "\n",
    "print(sub_arrays)"
   ]
  },
  {
   "cell_type": "code",
   "execution_count": 88,
   "id": "b6433db1",
   "metadata": {},
   "outputs": [
    {
     "name": "stdout",
     "output_type": "stream",
     "text": [
      "[('Donovan Mitchell CLE', 41), ('Jalen Brunson NYK', 40), ('Damian Lillard POR', 40), ('Kyrie Irving DAL', 36), ('Brandon Ingram NOP', 34)]\n",
      "[('Anthony Davis LAL', 20), ('Rudy Gobert MIN', 14), ('Kevon Looney GSW', 13), ('Nikola Vucevic CHI', 13), ('Luka Doncic DAL', 12)]\n",
      "[('LaMelo Ball CHA', 15), ('Trae Young ATL', 14), ('Tyrese Haliburton IND', 12), ('James Harden PHI', 10), ('Jimmy Butler MIA', 9)]\n",
      "[('Isaiah Jackson IND', 4), ('Jarrett Allen CLE', 3), ('Paolo Banchero ORL', 3), ('Anthony Davis LAL', 3), ('Trey Murphy III NOP', 3)]\n",
      "[('Josh Richardson NOP', 5), ('Jamaree Bouyea MIA', 3), ('Zach Collins SAS', 3), ('Tyrese Haliburton IND', 3), ('Gary Harris ORL', 3)]\n",
      "[('Jordan Clarkson UTA', 7), ('Darius Garland CLE', 6), ('Shai Gilgeous-Alexander OKC', 6), ('Brandon Ingram NOP', 6), ('Zach LaVine CHI', 5)]\n",
      "[('Damian Lillard POR', 8), ('LaMelo Ball CHA', 6), ('Malik Beasley LAL', 6), ('Jalen Brunson NYK', 6), ('Jordan Clarkson UTA', 6)]\n",
      "[('Jalen Green HOU', 15), ('Luka Doncic DAL', 11), ('Spencer Dinwiddie BKN', 9), ('Trae Young ATL', 9), ('Shai Gilgeous-Alexander OKC', 8)]\n"
     ]
    }
   ],
   "source": [
    "# assign each category to relevant sub array\n",
    "point_leaders = sub_arrays[0]\n",
    "rebound_leaders = sub_arrays[1]\n",
    "assist_leaders = sub_arrays[2]\n",
    "block_leaders = sub_arrays[3]\n",
    "steal_leaders = sub_arrays[4]\n",
    "turnover_leaders = sub_arrays[5]\n",
    "three_leaders = sub_arrays[6]\n",
    "free_throw_leaders = sub_arrays[7]\n",
    "\n",
    "print(point_leaders)\n",
    "print(rebound_leaders)\n",
    "print(assist_leaders)\n",
    "print(block_leaders)\n",
    "print(steal_leaders)\n",
    "print(turnover_leaders)\n",
    "print(three_leaders)\n",
    "print(free_throw_leaders)"
   ]
  }
 ],
 "metadata": {
  "kernelspec": {
   "display_name": "Python 3 (ipykernel)",
   "language": "python",
   "name": "python3"
  },
  "language_info": {
   "codemirror_mode": {
    "name": "ipython",
    "version": 3
   },
   "file_extension": ".py",
   "mimetype": "text/x-python",
   "name": "python",
   "nbconvert_exporter": "python",
   "pygments_lexer": "ipython3",
   "version": "3.9.7"
  }
 },
 "nbformat": 4,
 "nbformat_minor": 5
}
